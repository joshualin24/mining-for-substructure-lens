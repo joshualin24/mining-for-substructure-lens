{
 "cells": [
  {
   "cell_type": "markdown",
   "metadata": {},
   "source": [
    "# Evaluate likelihood ratio"
   ]
  },
  {
   "cell_type": "code",
   "execution_count": 1,
   "metadata": {},
   "outputs": [],
   "source": [
    "import sys, os\n",
    "sys.path.append('../')\n",
    "\n",
    "import logging\n",
    "import numpy as np\n",
    "import matplotlib\n",
    "import matplotlib.pyplot as plt\n",
    "from matplotlib.colors import colorConverter\n",
    "from scipy.stats import norm\n",
    "from sklearn.metrics import roc_curve\n",
    "\n",
    "from inference.utils import s_from_r, shuffle\n",
    "import paper_settings\n",
    "\n",
    "logging.basicConfig(\n",
    "    format='%(asctime)-5.5s %(name)-20.20s %(levelname)-7.7s %(message)s',\n",
    "    datefmt='%H:%M',\n",
    "    level=logging.INFO\n",
    ")"
   ]
  },
  {
   "cell_type": "code",
   "execution_count": 2,
   "metadata": {},
   "outputs": [],
   "source": [
    "paper_settings.setup()"
   ]
  },
  {
   "cell_type": "markdown",
   "metadata": {},
   "source": [
    "## Setting"
   ]
  },
  {
   "cell_type": "code",
   "execution_count": 3,
   "metadata": {},
   "outputs": [],
   "source": [
    "setting = \"full\"\n",
    "filename = \"alices_full_sgd1e2_grid\"  # \"calibrated_alices_full_sgd1e2_grid\"\n",
    "#samples = [2, 16, 3,6]\n",
    "samples = [3, 28, 21, 16]\n"
   ]
  },
  {
   "cell_type": "markdown",
   "metadata": {},
   "source": [
    "## Data"
   ]
  },
  {
   "cell_type": "code",
   "execution_count": 5,
   "metadata": {},
   "outputs": [
    {
     "ename": "FileNotFoundError",
     "evalue": "[Errno 2] No such file or directory: '../data/samples/x_train_full_point.npy'",
     "output_type": "error",
     "traceback": [
      "\u001b[0;31m---------------------------------------------------------------------------\u001b[0m",
      "\u001b[0;31mFileNotFoundError\u001b[0m                         Traceback (most recent call last)",
      "\u001b[0;32m<ipython-input-5-b6d606cfe889>\u001b[0m in \u001b[0;36m<module>\u001b[0;34m\u001b[0m\n\u001b[1;32m      2\u001b[0m \u001b[0;31m# llrs = np.load(\"../data/results/llr_{}.npy\".format(filename))[:,samples]\u001b[0m\u001b[0;34m\u001b[0m\u001b[0;34m\u001b[0m\u001b[0;34m\u001b[0m\u001b[0m\n\u001b[1;32m      3\u001b[0m \u001b[0;34m\u001b[0m\u001b[0m\n\u001b[0;32m----> 4\u001b[0;31m \u001b[0mxs\u001b[0m \u001b[0;34m=\u001b[0m \u001b[0mnp\u001b[0m\u001b[0;34m.\u001b[0m\u001b[0mload\u001b[0m\u001b[0;34m(\u001b[0m\u001b[0;34m\"../data/samples/x_train_{}_point.npy\"\u001b[0m\u001b[0;34m.\u001b[0m\u001b[0mformat\u001b[0m\u001b[0;34m(\u001b[0m\u001b[0msetting\u001b[0m\u001b[0;34m)\u001b[0m\u001b[0;34m)\u001b[0m\u001b[0;34m[\u001b[0m\u001b[0msamples\u001b[0m\u001b[0;34m]\u001b[0m\u001b[0;34m\u001b[0m\u001b[0;34m\u001b[0m\u001b[0m\n\u001b[0m\u001b[1;32m      5\u001b[0m \u001b[0mllrs\u001b[0m \u001b[0;34m=\u001b[0m \u001b[0mnp\u001b[0m\u001b[0;34m.\u001b[0m\u001b[0mload\u001b[0m\u001b[0;34m(\u001b[0m\u001b[0;34m\"../data/results/llr_{}.npy\"\u001b[0m\u001b[0;34m.\u001b[0m\u001b[0mformat\u001b[0m\u001b[0;34m(\u001b[0m\u001b[0mfilename\u001b[0m\u001b[0;34m)\u001b[0m\u001b[0;34m)\u001b[0m\u001b[0;34m[\u001b[0m\u001b[0;34m:\u001b[0m\u001b[0;34m,\u001b[0m\u001b[0msamples\u001b[0m\u001b[0;34m]\u001b[0m\u001b[0;34m\u001b[0m\u001b[0;34m\u001b[0m\u001b[0m\n",
      "\u001b[0;32m~/miniconda3/lib/python3.7/site-packages/numpy/lib/npyio.py\u001b[0m in \u001b[0;36mload\u001b[0;34m(file, mmap_mode, allow_pickle, fix_imports, encoding)\u001b[0m\n\u001b[1;32m    426\u001b[0m         \u001b[0mown_fid\u001b[0m \u001b[0;34m=\u001b[0m \u001b[0;32mFalse\u001b[0m\u001b[0;34m\u001b[0m\u001b[0;34m\u001b[0m\u001b[0m\n\u001b[1;32m    427\u001b[0m     \u001b[0;32melse\u001b[0m\u001b[0;34m:\u001b[0m\u001b[0;34m\u001b[0m\u001b[0;34m\u001b[0m\u001b[0m\n\u001b[0;32m--> 428\u001b[0;31m         \u001b[0mfid\u001b[0m \u001b[0;34m=\u001b[0m \u001b[0mopen\u001b[0m\u001b[0;34m(\u001b[0m\u001b[0mos_fspath\u001b[0m\u001b[0;34m(\u001b[0m\u001b[0mfile\u001b[0m\u001b[0;34m)\u001b[0m\u001b[0;34m,\u001b[0m \u001b[0;34m\"rb\"\u001b[0m\u001b[0;34m)\u001b[0m\u001b[0;34m\u001b[0m\u001b[0;34m\u001b[0m\u001b[0m\n\u001b[0m\u001b[1;32m    429\u001b[0m         \u001b[0mown_fid\u001b[0m \u001b[0;34m=\u001b[0m \u001b[0;32mTrue\u001b[0m\u001b[0;34m\u001b[0m\u001b[0;34m\u001b[0m\u001b[0m\n\u001b[1;32m    430\u001b[0m \u001b[0;34m\u001b[0m\u001b[0m\n",
      "\u001b[0;31mFileNotFoundError\u001b[0m: [Errno 2] No such file or directory: '../data/samples/x_train_full_point.npy'"
     ]
    }
   ],
   "source": [
    "# xs = np.load(\"../data/samples/x_test_{}_point.npy\".format(setting))[samples]\n",
    "# llrs = np.load(\"../data/results/llr_{}.npy\".format(filename))[:,samples]\n",
    "\n",
    "xs = np.load(\"../data/samples/x_train_{}_point.npy\".format(setting))[samples]\n",
    "llrs = np.load(\"../data/results/llr_{}.npy\".format(filename))[:,samples]\n"
   ]
  },
  {
   "cell_type": "code",
   "execution_count": null,
   "metadata": {},
   "outputs": [],
   "source": [
    "resolution = 25\n",
    "\n",
    "f_sub_1d = np.linspace(0.001, 0.200, resolution)\n",
    "beta_1d = np.linspace(-2.5, -1.5, resolution)\n",
    "\n",
    "theta0, theta1 = np.meshgrid(f_sub_1d, beta_1d)\n",
    "theta_grid = np.vstack((theta0.flatten(), theta1.flatten())).T\n",
    "\n",
    "bin_size = f_sub_1d[1] - f_sub_1d[0]\n",
    "alpha_edges = np.linspace(f_sub_1d[0] - bin_size/2, f_sub_1d[-1] + bin_size/2, resolution + 1)\n",
    "bin_size = beta_1d[1] - beta_1d[0]\n",
    "beta_edges = np.linspace(beta_1d[0] - bin_size/2, beta_1d[-1] + bin_size/2, resolution + 1)"
   ]
  },
  {
   "cell_type": "markdown",
   "metadata": {},
   "source": [
    "## Plot"
   ]
  },
  {
   "cell_type": "code",
   "execution_count": null,
   "metadata": {},
   "outputs": [],
   "source": [
    "ncols = len(samples)\n",
    "nrows = 2\n",
    "\n",
    "gradmin, gradmax = -0.1, 0.1\n",
    "gradrelmax = 0.002\n",
    "xmin, xmax = 2.3, 3.15\n",
    "\n",
    "llrmin, llrmax = 0., 25.\n",
    "normalize_to_mle = True\n"
   ]
  },
  {
   "cell_type": "code",
   "execution_count": null,
   "metadata": {},
   "outputs": [],
   "source": [
    "fig, gs = paper_settings.grid2_width(ncols, nrows)\n",
    "\n",
    "for i in range(ncols):\n",
    "    ax = plt.subplot(gs[i])\n",
    "    im = plt.imshow(\n",
    "        np.log10(xs[i]),\n",
    "        vmin=xmin,\n",
    "        vmax=xmax,\n",
    "        cmap='gist_gray',\n",
    "        extent=(-3.2,3.2,-3.2,3.2),\n",
    "        origin=\"lower\",\n",
    "        alpha=1.\n",
    "    )\n",
    "    if i == 0:\n",
    "        plt.plot([-2.9, -1.9], [-2.9, -2.9], c=\"white\", lw=1.5, ls=\"-\")\n",
    "        plt.text(-2.4, -2.6, \"$1''$\", va=\"center\", ha=\"center\", color=\"white\")\n",
    "        \n",
    "    plt.xlim(-3.2,3.2)\n",
    "    plt.ylim(-3.2,3.2)\n",
    "    ax.get_xaxis().set_visible(False)\n",
    "    ax.get_yaxis().set_visible(False)\n",
    "        \n",
    "    if i == 0:\n",
    "        ax = plt.subplot(gs[ncols])\n",
    "        cbar = plt.colorbar(im, cax=ax)\n",
    "        cbar.set_label(r\"$\\log_{10} \\; x$\")\n",
    "        cbar.set_ticks([2.4,2.6,2.8,3.0])\n",
    "        ax.yaxis.set_label_coords(5.3, 0.5)\n",
    "        \n",
    "        \n",
    "    \n",
    "    ax = plt.subplot(gs[ncols + 1 + i])\n",
    "    z = -2. * llrs[:, i]\n",
    "    z = z - np.min(z)\n",
    "    z_clip = np.clip(z, llrmin, llrmax)\n",
    "    pcm = ax.imshow(\n",
    "        (z_clip**0.5).reshape((resolution, resolution)),\n",
    "        extent=(alpha_edges[0],alpha_edges[-1],beta_edges[0], beta_edges[-1]),\n",
    "        cmap=paper_settings.CMAP1,\n",
    "        origin=\"lower\",\n",
    "        aspect=\"auto\",\n",
    "        norm=matplotlib.colors.Normalize(vmin=llrmin**0.5, vmax=llrmax**0.5),\n",
    "    )\n",
    "    cs = plt.contour(\n",
    "        0.5 * (alpha_edges[1:] + alpha_edges[:-1]),\n",
    "        0.5 * (beta_edges[1:] + beta_edges[:-1]),\n",
    "        z.reshape((resolution, resolution)),\n",
    "        [5.991464547107983],\n",
    "        colors=\"black\",\n",
    "        linewidths=1.,\n",
    "        linestyles=[\"-\"]\n",
    "    )\n",
    "    plt.scatter(0.05, -1.9, s=10., color='black', marker='*')\n",
    "    plt.xlim(0.,0.2)\n",
    "    plt.ylim(-2.5,-1.5) \n",
    "    \n",
    "    plt.xlabel(r'$f_{\\mathrm{sub}}$')\n",
    "    plt.xticks([0.,0.05,0.1,0.15])\n",
    "    if i == 0:\n",
    "        plt.ylabel(r'$\\beta$')\n",
    "        plt.yticks([-1.6,-1.8,-2.0,-2.2,-2.4],[\"-0.6\", \"-0.8\", \"-1.0\", \"-1.2\", \"-1.4\"])\n",
    "        ax.yaxis.set_label_coords(-0.24, 0.5)\n",
    "    else:\n",
    "        plt.ylabel(None)\n",
    "        ax.set_yticklabels(['' for item in ax.get_xticklabels()])\n",
    "    \n",
    "    if i == 0:\n",
    "        ax = plt.subplot(gs[2*ncols + 1])\n",
    "        cbar = fig.colorbar(\n",
    "            pcm,\n",
    "            cax=ax,\n",
    "            ticks=[0.,1.,2.,3.,4.,5.],\n",
    "            format=matplotlib.ticker.FuncFormatter(lambda x, _ : \"{:.0f}\".format(x**2))\n",
    "        )\n",
    "        cbar.set_label(r'$-2 \\Delta \\log \\hat{r}(x | \\beta, f_{\\mathrm{sub}})$')\n",
    "        ax.yaxis.set_label_coords(5., 0.5)\n",
    "\n",
    "    \n",
    "plt.savefig(\"../figures/individual_lens_predictions.pdf\", dpi=300)\n",
    "    "
   ]
  },
  {
   "cell_type": "code",
   "execution_count": null,
   "metadata": {},
   "outputs": [],
   "source": []
  }
 ],
 "metadata": {
  "kernelspec": {
   "display_name": "Python 3",
   "language": "python",
   "name": "python3"
  },
  "language_info": {
   "codemirror_mode": {
    "name": "ipython",
    "version": 3
   },
   "file_extension": ".py",
   "mimetype": "text/x-python",
   "name": "python",
   "nbconvert_exporter": "python",
   "pygments_lexer": "ipython3",
   "version": "3.7.3"
  }
 },
 "nbformat": 4,
 "nbformat_minor": 2
}
